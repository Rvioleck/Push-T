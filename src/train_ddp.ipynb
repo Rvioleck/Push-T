{
 "cells": [
  {
   "metadata": {
    "ExecuteTime": {
     "end_time": "2024-07-18T08:27:39.093774Z",
     "start_time": "2024-07-18T08:27:39.070473Z"
    }
   },
   "cell_type": "code",
   "source": [
    "import argparse\n",
    "\n",
    "args_dict = {\n",
    "    \"dataset_dir\": \"../pusht_cchi_v7_replay.zarr.zip\",\n",
    "    \"save_dir\": \"./checkpoints/\",\n",
    "    \"batch_size\": 64,\n",
    "    \"lr\": 1e-4,\n",
    "    \"num_epochs\": 1000,\n",
    "    \"diffusion_iters\": 1000,\n",
    "}\n",
    "\n",
    "args = argparse.Namespace(**args_dict)"
   ],
   "id": "c93a4d305737ef6b",
   "execution_count": 1,
   "outputs": []
  },
  {
   "metadata": {
    "ExecuteTime": {
     "end_time": "2024-07-18T08:27:50.177744Z",
     "start_time": "2024-07-18T08:27:39.096768Z"
    }
   },
   "cell_type": "code",
   "source": [
    "from diffusers import get_scheduler\n",
    "from diffusers import DDPMScheduler\n",
    "import os\n",
    "import torch\n",
    "from pushTImageDataset import get_dataloader\n",
    "from train_ddp import get_nets\n",
    "\n",
    "pred_horizon = 16\n",
    "obs_horizon = 2\n",
    "action_horizon = 8\n",
    "\n",
    "nets, ema = get_nets(obs_horizon=obs_horizon)\n",
    "\n",
    "dataloader = get_dataloader(dataset_path=args.dataset_dir, pred_horizon=pred_horizon, obs_horizon=obs_horizon,\n",
    "                            action_horizon=action_horizon,\n",
    "                            batch_size=args.batch_size)\n",
    "\n",
    "optimizer = torch.optim.AdamW(params=nets.parameters(), lr=args.lr, weight_decay=1e-6)\n",
    "\n",
    "lr_scheduler = get_scheduler(name='cosine', optimizer=optimizer, num_warmup_steps=500,\n",
    "                             num_training_steps=len(dataloader) * args.num_epochs)\n",
    "\n",
    "noise_scheduler = DDPMScheduler(num_train_timesteps=args.diffusion_iters, beta_schedule='squaredcos_cap_v2',\n",
    "                                clip_sample=True,\n",
    "                                prediction_type='epsilon')\n",
    "save_dir = args.save_dir\n",
    "if not os.path.exists(save_dir):\n",
    "    os.makedirs(save_dir)\n"
   ],
   "id": "initial_id",
   "execution_count": 2,
   "outputs": []
  },
  {
   "metadata": {
    "ExecuteTime": {
     "end_time": "2024-07-18T08:27:50.223530Z",
     "start_time": "2024-07-18T08:27:50.183745Z"
    }
   },
   "cell_type": "code",
   "source": [
    "import os\n",
    "import time\n",
    "import numpy as np\n",
    "import torch\n",
    "import torch.nn as nn\n",
    "from tqdm import tqdm\n",
    "\n",
    "def train_loop(nets, dataloader, optimizer, lr_scheduler, ema, noise_scheduler, num_epochs, save_directory):\n",
    "    device = torch.device('cuda' if torch.cuda.is_available() else 'cpu')\n",
    "    vision_encoder = nets['vision_encoder'].to(device)\n",
    "    noise_pred_net = nets['noise_pred_net'].to(device)\n",
    "    \n",
    "    if torch.cuda.device_count() > 1:\n",
    "        vision_encoder = nn.DataParallel(vision_encoder)\n",
    "        noise_pred_net = nn.DataParallel(noise_pred_net)\n",
    "\n",
    "    for epoch_idx in range(num_epochs):\n",
    "        epoch_loss = []\n",
    "        vision_encoder.eval()\n",
    "        noise_pred_net.train()\n",
    "\n",
    "        for nbatch in tqdm(dataloader, desc=f'Epoch {epoch_idx + 1}/{num_epochs}'):\n",
    "            nimage = nbatch['image'].to(device)\n",
    "            nagent_pos = nbatch['agent_pos'].to(device)\n",
    "            naction = nbatch['action'].to(device)\n",
    "            B = nagent_pos.shape[0]\n",
    "\n",
    "            image_features = vision_encoder(nimage.flatten(end_dim=1))\n",
    "            image_features = image_features.reshape(*nimage.shape[:2], -1)\n",
    "\n",
    "            obs_features = torch.cat([image_features, nagent_pos], dim=-1)\n",
    "            obs_cond = obs_features.flatten(start_dim=1)\n",
    "\n",
    "            noise = torch.randn(naction.shape, device=device)\n",
    "            timesteps = torch.randint(0, noise_scheduler.config.num_train_timesteps, (B,), device=device).long()\n",
    "\n",
    "            noisy_actions = noise_scheduler.add_noise(naction, noise, timesteps)\n",
    "            noise_pred = noise_pred_net(noisy_actions, timesteps, global_cond=obs_cond)\n",
    "\n",
    "            loss = nn.functional.mse_loss(noise_pred, noise)\n",
    "\n",
    "            optimizer.zero_grad()\n",
    "            loss.backward()\n",
    "            optimizer.step()\n",
    "            lr_scheduler.step()\n",
    "\n",
    "            # Update EMA weights if ema is not None\n",
    "            # if ema is not None:\n",
    "            #     ema.update_params(nets)\n",
    "\n",
    "            loss_cpu = loss.item()\n",
    "            epoch_loss.append(loss_cpu)\n",
    "\n",
    "        avg_loss = np.mean(epoch_loss)\n",
    "        print(f'Epoch {epoch_idx+1}/{num_epochs} - Loss: {avg_loss}')\n",
    "\n",
    "        if (epoch_idx + 1) % 10 == 0:\n",
    "            time_now = time.strftime(\"%Y%m%d-%H%M%S\") + \"-\" + str(epoch_idx)\n",
    "            save_directory_epoch = os.path.join(save_directory, time_now)\n",
    "            os.makedirs(save_directory_epoch, exist_ok=True)\n",
    "            \n",
    "            torch.save({\n",
    "                'vision_encoder': vision_encoder.state_dict(),\n",
    "                'noise_pred_net': noise_pred_net.state_dict(),\n",
    "                'optimizer': optimizer.state_dict(),\n",
    "                'scheduler': lr_scheduler.state_dict()\n",
    "            }, os.path.join(save_directory_epoch, 'model.pth'))\n",
    "            \n",
    "            print(f\"Saved model to {save_directory_epoch}, loss: {avg_loss}\")"
   ],
   "id": "6608868e1387e1bc",
   "execution_count": 3,
   "outputs": []
  },
  {
   "metadata": {
    "jupyter": {
     "is_executing": true
    },
    "ExecuteTime": {
     "start_time": "2024-07-18T08:27:50.228321Z"
    }
   },
   "cell_type": "code",
   "source": "train_loop(nets, dataloader, optimizer, lr_scheduler, ema, noise_scheduler, args.num_epochs, args.save_dir)",
   "id": "d69c5cf607d4f05a",
   "execution_count": null,
   "outputs": []
  }
 ],
 "metadata": {
  "kernelspec": {
   "display_name": "Python 3",
   "language": "python",
   "name": "python3"
  },
  "language_info": {
   "codemirror_mode": {
    "name": "ipython",
    "version": 2
   },
   "file_extension": ".py",
   "mimetype": "text/x-python",
   "name": "python",
   "nbconvert_exporter": "python",
   "pygments_lexer": "ipython2",
   "version": "2.7.6"
  }
 },
 "nbformat": 4,
 "nbformat_minor": 5
}
