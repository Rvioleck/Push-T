{
 "cells": [
  {
   "cell_type": "code",
   "id": "initial_id",
   "metadata": {
    "collapsed": true,
    "ExecuteTime": {
     "end_time": "2024-07-17T03:18:12.910060Z",
     "start_time": "2024-07-17T03:18:10.135291Z"
    }
   },
   "source": [
    "import math\n",
    "\n",
    "import torch\n",
    "from torch import nn\n",
    "\n",
    "m = nn.Sequential(\n",
    "    nn.Mish(),\n",
    "    nn.Linear(20, 200),\n",
    "    # nn.Unflatten(-1, (-1, 1))\n",
    ")"
   ],
   "execution_count": 1,
   "outputs": []
  },
  {
   "metadata": {
    "ExecuteTime": {
     "end_time": "2024-07-17T03:35:52.838637Z",
     "start_time": "2024-07-17T03:35:52.822562Z"
    }
   },
   "cell_type": "code",
   "source": [
    "class Downsample1d(nn.Module):\n",
    "    def __init__(self, dim):\n",
    "        super().__init__()\n",
    "        self.conv = nn.Conv1d(dim, dim, 4, 2, 1)\n",
    "\n",
    "    def forward(self, x):\n",
    "        return self.conv(x)\n",
    "\n",
    "\n",
    "class Upsample1d(nn.Module):\n",
    "    def __init__(self, dim):\n",
    "        super().__init__()\n",
    "        self.conv = nn.ConvTranspose1d(dim, dim, 4, 2, 1)\n",
    "\n",
    "    def forward(self, x):\n",
    "        return self.conv(x)\n"
   ],
   "id": "a60df6878945551d",
   "execution_count": 13,
   "outputs": []
  },
  {
   "metadata": {
    "ExecuteTime": {
     "end_time": "2024-07-17T03:35:53.497219Z",
     "start_time": "2024-07-17T03:35:53.473597Z"
    }
   },
   "cell_type": "code",
   "source": [
    "down = Downsample1d(10)\n",
    "up = Upsample1d(10)\n",
    "\n",
    "# 测试\n",
    "x = torch.randn(128, 10, 100)\n",
    "y = down(x)\n",
    "print(y.shape)"
   ],
   "id": "d85e111e9b8bdb5c",
   "execution_count": 14,
   "outputs": []
  },
  {
   "metadata": {},
   "cell_type": "code",
   "execution_count": null,
   "source": "",
   "id": "cc679c7b8e5e369d",
   "outputs": []
  },
  {
   "metadata": {},
   "cell_type": "markdown",
   "source": [
    "$$\n",
    "W / 2 = \\frac{W + 2 \\times \\text{Padding} - \\text{Kernel Size}}{\\text{Stride}} + 1\n",
    "$$"
   ],
   "id": "28c328cd0e8fd698"
  },
  {
   "metadata": {},
   "cell_type": "code",
   "execution_count": null,
   "source": "",
   "id": "f156465940d5cbbf",
   "outputs": []
  }
 ],
 "metadata": {
  "kernelspec": {
   "display_name": "Python 3",
   "language": "python",
   "name": "python3"
  },
  "language_info": {
   "codemirror_mode": {
    "name": "ipython",
    "version": 2
   },
   "file_extension": ".py",
   "mimetype": "text/x-python",
   "name": "python",
   "nbconvert_exporter": "python",
   "pygments_lexer": "ipython2",
   "version": "2.7.6"
  }
 },
 "nbformat": 4,
 "nbformat_minor": 5
}
